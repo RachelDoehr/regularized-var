{
 "cells": [
  {
   "cell_type": "code",
   "execution_count": 3,
   "id": "2f654173-f6b0-4fa8-904e-4cb9215482ad",
   "metadata": {},
   "outputs": [],
   "source": [
    "import pandas as pd \n",
    "import numpy as np\n",
    "from regularized_var import VAR, MinnesotaVAR, WalkForward, WalkForwardValidator, mse, mae, pseudo_r2"
   ]
  },
  {
   "cell_type": "code",
   "execution_count": 2,
   "id": "d0063510-de34-4652-a046-c15ee191d9e6",
   "metadata": {},
   "outputs": [
    {
     "data": {
      "text/html": [
       "<div>\n",
       "<style scoped>\n",
       "    .dataframe tbody tr th:only-of-type {\n",
       "        vertical-align: middle;\n",
       "    }\n",
       "\n",
       "    .dataframe tbody tr th {\n",
       "        vertical-align: top;\n",
       "    }\n",
       "\n",
       "    .dataframe thead th {\n",
       "        text-align: right;\n",
       "    }\n",
       "</style>\n",
       "<table border=\"1\" class=\"dataframe\">\n",
       "  <thead>\n",
       "    <tr style=\"text-align: right;\">\n",
       "      <th></th>\n",
       "      <th>ct2_bps</th>\n",
       "      <th>ct5_bps</th>\n",
       "      <th>ct10_bps</th>\n",
       "      <th>ct30_bps</th>\n",
       "    </tr>\n",
       "    <tr>\n",
       "      <th>date</th>\n",
       "      <th></th>\n",
       "      <th></th>\n",
       "      <th></th>\n",
       "      <th></th>\n",
       "    </tr>\n",
       "  </thead>\n",
       "  <tbody>\n",
       "    <tr>\n",
       "      <th>1977-02-15</th>\n",
       "      <td>6.04</td>\n",
       "      <td>6.72</td>\n",
       "      <td>7.36</td>\n",
       "      <td>7.70</td>\n",
       "    </tr>\n",
       "    <tr>\n",
       "      <th>1977-02-16</th>\n",
       "      <td>6.02</td>\n",
       "      <td>6.70</td>\n",
       "      <td>7.34</td>\n",
       "      <td>7.67</td>\n",
       "    </tr>\n",
       "    <tr>\n",
       "      <th>1977-02-17</th>\n",
       "      <td>5.99</td>\n",
       "      <td>6.67</td>\n",
       "      <td>7.26</td>\n",
       "      <td>7.67</td>\n",
       "    </tr>\n",
       "    <tr>\n",
       "      <th>1977-02-18</th>\n",
       "      <td>6.06</td>\n",
       "      <td>6.82</td>\n",
       "      <td>7.41</td>\n",
       "      <td>7.76</td>\n",
       "    </tr>\n",
       "    <tr>\n",
       "      <th>1977-02-21</th>\n",
       "      <td>6.06</td>\n",
       "      <td>6.82</td>\n",
       "      <td>7.41</td>\n",
       "      <td>7.76</td>\n",
       "    </tr>\n",
       "  </tbody>\n",
       "</table>\n",
       "</div>"
      ],
      "text/plain": [
       "            ct2_bps  ct5_bps  ct10_bps  ct30_bps\n",
       "date                                            \n",
       "1977-02-15     6.04     6.72      7.36      7.70\n",
       "1977-02-16     6.02     6.70      7.34      7.67\n",
       "1977-02-17     5.99     6.67      7.26      7.67\n",
       "1977-02-18     6.06     6.82      7.41      7.76\n",
       "1977-02-21     6.06     6.82      7.41      7.76"
      ]
     },
     "execution_count": 2,
     "metadata": {},
     "output_type": "execute_result"
    }
   ],
   "source": [
    "# load sample data\n",
    "X = pd.read_csv('data.csv')\n",
    "X['date'] = pd.to_datetime(X['date'])\n",
    "X.set_index('date', inplace=True)\n",
    "\n",
    "X.head()[['ct2_bps', 'ct5_bps', 'ct10_bps', 'ct30_bps']]"
   ]
  },
  {
   "cell_type": "code",
   "execution_count": 6,
   "id": "64b84f95-8a2e-4ca4-af5b-88c4f3852ab6",
   "metadata": {},
   "outputs": [],
   "source": [
    "# define variables to include. Note model assumes already differenced/stationary\n",
    "# no need to standardize; walk-forward functions will handle train/test split standardization without leakage\n",
    "ENDOG = [\n",
    "    'ct2_bps_ret',\n",
    "    'ct5_bps_ret',\n",
    "    'ct10_bps_ret',\n",
    "    'ct30_bps_ret'\n",
    "]"
   ]
  },
  {
   "cell_type": "markdown",
   "id": "c47e949f-2ac0-4fae-8bdd-317897feb79d",
   "metadata": {},
   "source": [
    "**Run Walk-forward Validation**"
   ]
  },
  {
   "cell_type": "code",
   "execution_count": 7,
   "id": "2cdb9c1d-9035-4cff-be85-6736d1f64746",
   "metadata": {},
   "outputs": [],
   "source": [
    "splitter = WalkForward(train_size=1000, min_train_size=1000, horizon=5, step=1)\n",
    "\n",
    "# set up regularization strengths to grid search\n",
    "alphas = np.concatenate(([0.0], np.logspace(-3, 2, num=6)))\n",
    "\n",
    "output = {\"alpha\": [], \"mae\": [], \"mse\": [], \"corr\": [], \"r2\": []}"
   ]
  },
  {
   "cell_type": "code",
   "execution_count": 8,
   "id": "95ab12eb-cd9c-4142-bdaa-ba21a822ff05",
   "metadata": {},
   "outputs": [
    {
     "name": "stderr",
     "output_type": "stream",
     "text": [
      "Walk-forward splits: 100%|█████████████████████████████████████████████████████████| 11654/11654 [00:39<00:00, 295.05it/s]\n",
      "Walk-forward splits: 100%|█████████████████████████████████████████████████████████| 11654/11654 [00:39<00:00, 294.66it/s]\n",
      "Walk-forward splits: 100%|█████████████████████████████████████████████████████████| 11654/11654 [00:38<00:00, 303.41it/s]\n",
      "Walk-forward splits: 100%|█████████████████████████████████████████████████████████| 11654/11654 [00:38<00:00, 304.43it/s]\n",
      "Walk-forward splits: 100%|█████████████████████████████████████████████████████████| 11654/11654 [00:38<00:00, 303.44it/s]\n",
      "Walk-forward splits: 100%|█████████████████████████████████████████████████████████| 11654/11654 [00:39<00:00, 295.17it/s]\n",
      "Walk-forward splits: 100%|█████████████████████████████████████████████████████████| 11654/11654 [00:38<00:00, 303.09it/s]\n"
     ]
    }
   ],
   "source": [
    "for a in alphas:\n",
    "\n",
    "    wf = WalkForwardValidator(\n",
    "        estimator_class=MinnesotaVAR,\n",
    "        params={\"n_lags\": 5, \"alpha_own\": a, \"alpha_cross\": a*2, \"power\": 2.0, \"include_const\": False},\n",
    "        splitter=splitter,\n",
    "        metric=mse,\n",
    "        readd_mean_on_inverse=False,\n",
    "        verbose=True\n",
    "    )\n",
    "    wf.run(X[ENDOG])\n",
    "\n",
    "    # store errors\n",
    "    pred_h, true_h = wf.concatenated()\n",
    "\n",
    "    yt = true_h.values.ravel()\n",
    "    yp = pred_h.values.ravel()\n",
    "\n",
    "    pooled = {\n",
    "        \"mae\": mae(yt, yp),\n",
    "        \"mse\": mse(yt, yp),\n",
    "        \"corr\": float(pd.Series(yp).corr(pd.Series(yt))),\n",
    "        \"r2\": pseudo_r2(true_h, pred_h)\n",
    "    }\n",
    "    \n",
    "    output[\"alpha\"].append(a)\n",
    "    output[\"mae\"].append(pooled[\"mae\"])\n",
    "    output[\"mse\"].append(pooled[\"mse\"])\n",
    "    output[\"corr\"].append(pooled[\"corr\"])\n",
    "    output[\"r2\"].append(pooled[\"r2\"])"
   ]
  },
  {
   "cell_type": "code",
   "execution_count": 20,
   "id": "f1f1e042-7d85-46b8-9ab2-64218e08a760",
   "metadata": {},
   "outputs": [],
   "source": [
    "output_df = pd.DataFrame(output)"
   ]
  },
  {
   "cell_type": "code",
   "execution_count": 21,
   "id": "40641e90-b286-47f5-af45-b1c900543670",
   "metadata": {},
   "outputs": [
    {
     "data": {
      "text/html": [
       "<div>\n",
       "<style scoped>\n",
       "    .dataframe tbody tr th:only-of-type {\n",
       "        vertical-align: middle;\n",
       "    }\n",
       "\n",
       "    .dataframe tbody tr th {\n",
       "        vertical-align: top;\n",
       "    }\n",
       "\n",
       "    .dataframe thead th {\n",
       "        text-align: right;\n",
       "    }\n",
       "</style>\n",
       "<table border=\"1\" class=\"dataframe\">\n",
       "  <thead>\n",
       "    <tr style=\"text-align: right;\">\n",
       "      <th></th>\n",
       "      <th>alpha</th>\n",
       "      <th>mae</th>\n",
       "      <th>mse</th>\n",
       "      <th>corr</th>\n",
       "      <th>r2</th>\n",
       "    </tr>\n",
       "  </thead>\n",
       "  <tbody>\n",
       "    <tr>\n",
       "      <th>0</th>\n",
       "      <td>0.000</td>\n",
       "      <td>0.111169</td>\n",
       "      <td>0.025835</td>\n",
       "      <td>-0.003267</td>\n",
       "      <td>-0.024424</td>\n",
       "    </tr>\n",
       "    <tr>\n",
       "      <th>1</th>\n",
       "      <td>0.001</td>\n",
       "      <td>0.111014</td>\n",
       "      <td>0.025760</td>\n",
       "      <td>-0.001302</td>\n",
       "      <td>-0.021445</td>\n",
       "    </tr>\n",
       "    <tr>\n",
       "      <th>2</th>\n",
       "      <td>0.010</td>\n",
       "      <td>0.110640</td>\n",
       "      <td>0.025554</td>\n",
       "      <td>0.007077</td>\n",
       "      <td>-0.013248</td>\n",
       "    </tr>\n",
       "    <tr>\n",
       "      <th>3</th>\n",
       "      <td>0.100</td>\n",
       "      <td>0.110272</td>\n",
       "      <td>0.025323</td>\n",
       "      <td>0.023717</td>\n",
       "      <td>-0.004091</td>\n",
       "    </tr>\n",
       "    <tr>\n",
       "      <th>4</th>\n",
       "      <td>1.000</td>\n",
       "      <td>0.110076</td>\n",
       "      <td>0.025196</td>\n",
       "      <td>0.037045</td>\n",
       "      <td>0.000943</td>\n",
       "    </tr>\n",
       "    <tr>\n",
       "      <th>5</th>\n",
       "      <td>10.000</td>\n",
       "      <td>0.110056</td>\n",
       "      <td>0.025186</td>\n",
       "      <td>0.038170</td>\n",
       "      <td>0.001306</td>\n",
       "    </tr>\n",
       "    <tr>\n",
       "      <th>6</th>\n",
       "      <td>100.000</td>\n",
       "      <td>0.110085</td>\n",
       "      <td>0.025211</td>\n",
       "      <td>0.036771</td>\n",
       "      <td>0.000317</td>\n",
       "    </tr>\n",
       "  </tbody>\n",
       "</table>\n",
       "</div>"
      ],
      "text/plain": [
       "     alpha       mae       mse      corr        r2\n",
       "0    0.000  0.111169  0.025835 -0.003267 -0.024424\n",
       "1    0.001  0.111014  0.025760 -0.001302 -0.021445\n",
       "2    0.010  0.110640  0.025554  0.007077 -0.013248\n",
       "3    0.100  0.110272  0.025323  0.023717 -0.004091\n",
       "4    1.000  0.110076  0.025196  0.037045  0.000943\n",
       "5   10.000  0.110056  0.025186  0.038170  0.001306\n",
       "6  100.000  0.110085  0.025211  0.036771  0.000317"
      ]
     },
     "execution_count": 21,
     "metadata": {},
     "output_type": "execute_result"
    }
   ],
   "source": [
    "output_df"
   ]
  }
 ],
 "metadata": {
  "kernelspec": {
   "display_name": "Python 3 (ipykernel)",
   "language": "python",
   "name": "python3"
  },
  "language_info": {
   "codemirror_mode": {
    "name": "ipython",
    "version": 3
   },
   "file_extension": ".py",
   "mimetype": "text/x-python",
   "name": "python",
   "nbconvert_exporter": "python",
   "pygments_lexer": "ipython3",
   "version": "3.8.20"
  }
 },
 "nbformat": 4,
 "nbformat_minor": 5
}
